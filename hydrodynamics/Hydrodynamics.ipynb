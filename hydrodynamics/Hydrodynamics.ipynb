{
 "cells": [
  {
   "metadata": {},
   "cell_type": "markdown",
   "source": "",
   "id": "8a77807f92f26ee"
  },
  {
   "metadata": {},
   "cell_type": "code",
   "source": "import numpy as np",
   "id": "fec8e60e74d0cb98",
   "outputs": [],
   "execution_count": null
  },
  {
   "metadata": {},
   "cell_type": "markdown",
   "source": [
    "# Task 1\n",
    "\n",
    "**Czech:**\n",
    "> Máme válcovou nádobu o obsahu dna S a výšce h1. Ve výšce h2 ode dna (h2<h1) je výtokový\n",
    "otvor o obsahu průřezu S1, kterým z nádoby vytéká voda. Znázorněte graficky závislost\n",
    "výtokové rychlosti v1 na výšce kapaliny v nádobě podle toho, jak kapalina vytéká z nádoby (a\n",
    "tím pádem ubývá v nádobě).\n",
    "\n",
    "**English:**\n",
    "> We have a cylindrical container with a base area S and height h1. At a height h2 from the base (h2<h1), there is an outlet\n",
    "opening with a cross-sectional area S1, through which water flows out of the container. Graphically show the dependence\n",
    "of the outflow velocity v1 on the height of the liquid in the container as the liquid flows out (and thus decreases in the container)."
   ],
   "id": "74d2a4ac2d9b114e"
  },
  {
   "metadata": {},
   "cell_type": "markdown",
   "source": "### Properties",
   "id": "a6dde78c81ecd4d7"
  },
  {
   "metadata": {},
   "cell_type": "code",
   "source": [
    "Cylinder_base_area = 4  # m^2\n",
    "Outlet_area = 0.2  # m^2\n",
    "Outlet_height = 1  # m\n",
    "g = 9.81  # m/s^2"
   ],
   "id": "246e11fc6232da82",
   "outputs": [],
   "execution_count": null
  },
  {
   "metadata": {},
   "cell_type": "code",
   "source": [
    "X = np.arange(0, 10, 0.02)\n",
    "X"
   ],
   "id": "fbc121e30a2defb3",
   "outputs": [],
   "execution_count": null
  },
  {
   "metadata": {},
   "cell_type": "code",
   "source": [
    "def outflow_first_part_velocity(h):\n",
    "    return np.sqrt((2 * 9.81 * np.maximum((h - Outlet_height), 0)) / (1 - (Outlet_area / Cylinder_base_area) ** 2))"
   ],
   "id": "49fd447f8e13bc0b",
   "outputs": [],
   "execution_count": null
  },
  {
   "metadata": {},
   "cell_type": "code",
   "source": "Y = outflow_first_part_velocity(X)",
   "id": "1d673f55cb407eed",
   "outputs": [],
   "execution_count": null
  },
  {
   "metadata": {},
   "cell_type": "code",
   "source": [
    "import matplotlib.pyplot as plt\n",
    "\n",
    "\n",
    "def plot_results(results, language='cs', title='Outflow velocity vs. Height of the liquid in the container'):\n",
    "    plt.figure(figsize=(10, 5), dpi=100)\n",
    "    plt.plot(X, results)\n",
    "    plt.gca().invert_xaxis()\n",
    "    plt.xticks(np.arange(min(X), max(X) + 1, 0.5))\n",
    "    if language == 'cs':\n",
    "        plt.xlabel('Výška kapaliny v nádobě (m)')\n",
    "        plt.ylabel('Rychlost výtoku (m/s)')\n",
    "        plt.title(title)\n",
    "    else:\n",
    "        plt.xlabel('Height of the liquid in the container (m)')\n",
    "        plt.ylabel('Outflow velocity (m/s)')\n",
    "        plt.title(title)\n",
    "    plt.show()"
   ],
   "id": "7c4241857e78774c",
   "outputs": [],
   "execution_count": null
  },
  {
   "metadata": {},
   "cell_type": "code",
   "source": [
    "plot_results(Y,\n",
    "             title=\"Discharge rate vs. The height of the liquid in the container [S = 4 m^2, S1 = 0.2 m^2, h1 = 10 m, h2 = 1 m]\")"
   ],
   "id": "7ef7614f4da26ad7",
   "outputs": [],
   "execution_count": null
  },
  {
   "metadata": {},
   "cell_type": "markdown",
   "source": [
    "# Task 2\n",
    "\n",
    "**Czech:**\n",
    ">2) Situace jako v bodě 1), navíc kapalinu v nádobě doplňujeme přítokem o obsahu průřezu S2\n",
    "stálou rychlostí v2.\n",
    "\n",
    "**English:**\n",
    ">2) The situation as in point 1), in addition, we replenish the liquid in the container with an inflow of cross-sectional area S2"
   ],
   "id": "65d942a6758b6dcd"
  },
  {
   "metadata": {},
   "cell_type": "code",
   "source": [
    "Inflow_area = 0.3  # m^2\n",
    "Inflow_velocity = 40  # m/s"
   ],
   "id": "74f3b363219bad65",
   "outputs": [],
   "execution_count": null
  },
  {
   "metadata": {},
   "cell_type": "code",
   "source": [
    "def outflow_second_part_velocity(h):\n",
    "    return np.sqrt(\n",
    "        ((Inflow_area * Inflow_velocity / Cylinder_base_area) ** 2 + 2 * 9.81 * np.maximum((h - Outlet_height), 0)) / (\n",
    "                1 - (Outlet_area / Cylinder_base_area) ** 2))"
   ],
   "id": "36c570648892e405",
   "outputs": [],
   "execution_count": null
  },
  {
   "metadata": {},
   "cell_type": "code",
   "source": "Y = outflow_second_part_velocity(X)",
   "id": "4fa986cb09bfbfcc",
   "outputs": [],
   "execution_count": null
  },
  {
   "metadata": {},
   "cell_type": "code",
   "source": [
    "plot_results(Y,\n",
    "             title=\"Discharge rate vs. Height of liquid in container + inflow [S = 4 m^2, S1 = 0.2 m^2, S2 = 0.3 m^2, h1 = 10 m, h2 = 1 m, v2 = 4 m/s]\")"
   ],
   "id": "2d8c88d9c37efa5b",
   "outputs": [],
   "execution_count": null
  },
  {
   "metadata": {},
   "cell_type": "code",
   "source": "",
   "id": "4e10547e889c6558",
   "outputs": [],
   "execution_count": null
  }
 ],
 "metadata": {
  "kernelspec": {
   "display_name": "Python 3",
   "language": "python",
   "name": "python3"
  },
  "language_info": {
   "codemirror_mode": {
    "name": "ipython",
    "version": 2
   },
   "file_extension": ".py",
   "mimetype": "text/x-python",
   "name": "python",
   "nbconvert_exporter": "python",
   "pygments_lexer": "ipython2",
   "version": "2.7.6"
  }
 },
 "nbformat": 4,
 "nbformat_minor": 5
}
